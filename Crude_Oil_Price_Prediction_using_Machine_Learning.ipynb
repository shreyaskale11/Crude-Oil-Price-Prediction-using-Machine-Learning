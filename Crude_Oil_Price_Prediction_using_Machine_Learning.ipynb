{
  "nbformat": 4,
  "nbformat_minor": 0,
  "metadata": {
    "colab": {
      "name": "Crude-Oil-Price-Prediction-using-Machine-Learning.ipynb",
      "provenance": [],
      "authorship_tag": "ABX9TyMP98mfE2IzRHWcRTL6Ggfe"
    },
    "kernelspec": {
      "name": "python3",
      "display_name": "Python 3"
    },
    "language_info": {
      "name": "python"
    }
  },
  "cells": [
    {
      "cell_type": "code",
      "execution_count": 32,
      "metadata": {
        "id": "Na1Ti2gDmoZf"
      },
      "outputs": [],
      "source": [
        "from sklearn.linear_model import LinearRegression"
      ]
    },
    {
      "cell_type": "code",
      "source": [
        "from sklearn.svm import SVR\n",
        "import matplotlib.pyplot as plt\n",
        "import numpy as np"
      ],
      "metadata": {
        "id": "CjPzAyRQm6Uo"
      },
      "execution_count": 33,
      "outputs": []
    },
    {
      "cell_type": "code",
      "source": [
        "FILE_NAME = 'oil_price.txt'"
      ],
      "metadata": {
        "id": "Ov53EJ68oZIY"
      },
      "execution_count": 34,
      "outputs": []
    },
    {
      "cell_type": "code",
      "source": [
        "feature_list = []\n",
        "target_list = []\n",
        "with open(FILE_NAME, 'r') as f:\n",
        "    for line in f.readlines():\n",
        "        day, price = line.strip().split(' ')\n",
        "        feature_list.append([int(day)])\n",
        "        # Support only integer, so, multiply by 100\n",
        "        target_list.append(int(float(price) * 100))"
      ],
      "metadata": {
        "id": "uLU-V6-xm6OI"
      },
      "execution_count": 35,
      "outputs": []
    },
    {
      "cell_type": "code",
      "source": [
        ""
      ],
      "metadata": {
        "id": "o8-VprBxu8ej"
      },
      "execution_count": 41,
      "outputs": []
    },
    {
      "cell_type": "code",
      "source": [
        "linear = LinearRegression().fit(feature_list, target_list)\n",
        "svr_rbf = SVR(kernel='rbf', C=1e3, gamma=0.0001).fit(feature_list, target_list)"
      ],
      "metadata": {
        "id": "pi51rIfCm6LR"
      },
      "execution_count": 36,
      "outputs": []
    },
    {
      "cell_type": "code",
      "source": [
        "# Extend a number of days for forecasting the future \n",
        "last_day = len(feature_list)\n",
        "for i in range(1, 366):\n",
        "    feature_list.append([last_day + i])\n",
        "    target_list.append(np.nan)"
      ],
      "metadata": {
        "id": "7mcrHoEAm6H3"
      },
      "execution_count": 37,
      "outputs": []
    },
    {
      "cell_type": "code",
      "source": [
        "# Convert back to float, so, divide every element by 100\n",
        "linear_pred = list(map(lambda x: float(x) / 100, linear.predict(feature_list)))\n",
        "svr_rbf_pred = list(map(lambda x: float(x) / 100, svr_rbf.predict(feature_list)))\n",
        "target = list(map(lambda x: float(x) / 100, target_list))"
      ],
      "metadata": {
        "id": "BXq13YDBm6FF"
      },
      "execution_count": 38,
      "outputs": []
    },
    {
      "cell_type": "code",
      "source": [
        "# Display the prediction at 1 day, 30 days, and 365 days after the last available data\n",
        "print('==== Linear regression prediction ====')\n",
        "print(' - 1 day : ', linear_pred[last_day])\n",
        "print(' - 30 days : ', linear_pred[last_day + 29])\n",
        "print(' - 365 days : ', linear_pred[last_day + 364])\n",
        "\n",
        "print('==== Support vector regression  prediction ====')\n",
        "print(' - 1 day : ', svr_rbf_pred[last_day])\n",
        "print(' - 30 days : ', svr_rbf_pred[last_day + 29])\n",
        "print(' - 365 days : ', svr_rbf_pred[last_day + 364])"
      ],
      "metadata": {
        "colab": {
          "base_uri": "https://localhost:8080/"
        },
        "id": "CJpxu-mNm6CN",
        "outputId": "83c790f5-ddfb-4858-f3e0-c8cfbb571ce4"
      },
      "execution_count": 39,
      "outputs": [
        {
          "output_type": "stream",
          "name": "stdout",
          "text": [
            "==== Linear regression prediction ====\n",
            " - 1 day :  25.02571126760563\n",
            " - 30 days :  21.466441284799274\n",
            " - 365 days :  -19.64926368899827\n",
            "==== Support vector regression  prediction ====\n",
            " - 1 day :  47.491481288568885\n",
            " - 30 days :  43.33333818279487\n",
            " - 365 days :  62.989585214346626\n"
          ]
        }
      ]
    },
    {
      "cell_type": "code",
      "source": [
        "# Plot data out\n",
        "\n",
        "plt.plot(feature_list, target, color='black', label='Stock Price')\n",
        "plt.plot(feature_list, linear_pred, color='blue', label='Linear Regressoin')\n",
        "plt.plot(feature_list, svr_rbf_pred, color='red', label='Support Vector Regression RBF')\n",
        "plt.xlabel('A number of days since Jan 1, 2016')\n",
        "plt.ylabel('Oil Price (USD)')\n",
        "plt.gca().set_xlim(left = 0)\n",
        "plt.gca().set_xlim(right = 1000)\n",
        "plt.gca().set_ylim(bottom = 0)\n",
        "plt.xticks(np.arange(0, 1001, 60))\n",
        "plt.legend()\n",
        "plt.show()"
      ],
      "metadata": {
        "colab": {
          "base_uri": "https://localhost:8080/",
          "height": 279
        },
        "id": "Y4_T4EK2m54e",
        "outputId": "0cc8dce3-fe43-4a6d-c5fe-a635f7f40b7c"
      },
      "execution_count": 40,
      "outputs": [
        {
          "output_type": "display_data",
          "data": {
            "text/plain": [
              "<Figure size 432x288 with 1 Axes>"
            ],
            "image/png": "[encoded data removed]"
          },
          "metadata": {
            "needs_background": "light"
          }
        }
      ]
    }
  ]
}